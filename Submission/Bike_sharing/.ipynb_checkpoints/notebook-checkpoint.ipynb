{
 "cells": [
  {
   "attachments": {},
   "cell_type": "markdown",
   "metadata": {},
   "source": [
    "# Proyek Analisis Data: Nama dataset\n",
    "- Nama: Praditia Ilham Fauzi\n",
    "- Email: aditfauzi007@gmail.com\n",
    "- Id Dicoding: aditfauzi46"
   ]
  },
  {
   "attachments": {},
   "cell_type": "markdown",
   "metadata": {},
   "source": [
    "## Menentukan Pertanyaan Bisnis"
   ]
  },
  {
   "attachments": {},
   "cell_type": "markdown",
   "metadata": {},
   "source": [
    "1. Bagaimana pola atau tren penggunaan sepeda dalam jangka musiman dan bulanan?\n",
    "2. Pada musim apa tingkat penyewaan sepeda yang tertinggi dan terendah?\n",
    "3. Apakah hari libur dan hari kerja mempengaruhi penggunaan sepeda? dan Bagaimana polanya?\n",
    "4. Bagaimana suhu, kelembaban, dan kecepatan angin memengaruhi penggunaan sepeda?"
   ]
  },
  {
   "attachments": {},
   "cell_type": "markdown",
   "metadata": {},
   "source": [
    "## Menyaipkan semua library yang dibuthkan"
   ]
  },
  {
   "cell_type": "code",
   "execution_count": null,
   "metadata": {},
   "outputs": [],
   "source": [
    "import pandas as pd\n",
    "import numpy as np\n",
    "import matplotlib.pyplot as plt\n",
    "import seaborn as sns"
   ]
  },
  {
   "attachments": {},
   "cell_type": "markdown",
   "metadata": {},
   "source": [
    "## Data Wrangling"
   ]
  },
  {
   "attachments": {},
   "cell_type": "markdown",
   "metadata": {},
   "source": [
    "### Gathering Data"
   ]
  },
  {
   "cell_type": "code",
   "execution_count": null,
   "metadata": {},
   "outputs": [],
   "source": [
    "hour_df = pd.read_csv('hour.csv')\n",
    "hour_df.head()"
   ]
  },
  {
   "cell_type": "code",
   "execution_count": null,
   "metadata": {},
   "outputs": [],
   "source": [
    "hour_df.rename(columns={\n",
    "    'dteday': 'datetime',\n",
    "    'yr': 'year',\n",
    "    'mnth': 'month',\n",
    "    'hr': 'hour',\n",
    "    'weathersit': 'weather_condition',\n",
    "    'temp': 'temperature',\n",
    "    'hum': 'humidity',\n",
    "    'cnt': 'total_count'\n",
    "}, inplace=True)\n",
    "hour_df.head()"
   ]
  },
  {
   "attachments": {},
   "cell_type": "markdown",
   "metadata": {},
   "source": [
    "### Assessing Data"
   ]
  },
  {
   "cell_type": "code",
   "execution_count": null,
   "metadata": {},
   "outputs": [],
   "source": [
    "hour_df.info()"
   ]
  },
  {
   "cell_type": "code",
   "execution_count": null,
   "metadata": {},
   "outputs": [],
   "source": [
    "hour_df.isna().sum()"
   ]
  },
  {
   "cell_type": "code",
   "execution_count": null,
   "metadata": {},
   "outputs": [],
   "source": [
    "print(hour_df.describe())"
   ]
  },
  {
   "cell_type": "code",
   "execution_count": null,
   "metadata": {},
   "outputs": [],
   "source": [
    "print(\"Jumlah duplikasi: \", hour_df.duplicated().sum())"
   ]
  },
  {
   "attachments": {},
   "cell_type": "markdown",
   "metadata": {},
   "source": [
    "### Cleaning Data"
   ]
  },
  {
   "cell_type": "code",
   "execution_count": null,
   "metadata": {},
   "outputs": [],
   "source": [
    "hour_df['datetime'] = pd.to_datetime(hour_df.datetime)"
   ]
  },
  {
   "cell_type": "markdown",
   "metadata": {},
   "source": []
  },
  {
   "attachments": {},
   "cell_type": "markdown",
   "metadata": {},
   "source": [
    "## Exploratory Data Analysis (EDA)"
   ]
  },
  {
   "attachments": {},
   "cell_type": "markdown",
   "metadata": {},
   "source": [
    "### Explore ..."
   ]
  },
  {
   "cell_type": "code",
   "execution_count": null,
   "metadata": {},
   "outputs": [],
   "source": [
    "rename_season_dict = {1 : 'springer', 2 : 'summer', 3 : 'fall', 4 : 'winter'}\n",
    "rename_month_dict = {1: 'January', 2: 'February', 3: 'March', 4: 'April', 5: 'May', 6: 'June', 7: 'July', 8: \"August\", \n",
    "                     9: 'September', 10: 'October', 11: 'November', 12: 'December'}\n",
    "rename_year_dict = {0: '2011', 1: '2012'}\n",
    "rename_workingday_dict = {0: 'Holiday', 1: 'Workingday'}"
   ]
  },
  {
   "cell_type": "code",
   "execution_count": null,
   "metadata": {},
   "outputs": [],
   "source": [
    "hour_df.season.replace(rename_season_dict, inplace=True)\n",
    "hour_df.month.replace(rename_month_dict, inplace=True)\n",
    "hour_df.year.replace(rename_year_dict, inplace=True)\n",
    "hour_df.workingday.replace(rename_workingday_dict, inplace=True)"
   ]
  },
  {
   "cell_type": "code",
   "execution_count": null,
   "metadata": {},
   "outputs": [],
   "source": [
    "unique_season = hour_df['season'].unique()\n",
    "unique_month = hour_df['month'].unique()\n",
    "unique_year = hour_df['year'].unique()\n",
    "unique_workingday = hour_df['workingday'].unique()\n",
    "print(unique_season)\n",
    "print(unique_month)\n",
    "print(unique_year)\n",
    "print(unique_workingday)"
   ]
  },
  {
   "cell_type": "code",
   "execution_count": null,
   "metadata": {},
   "outputs": [],
   "source": [
    "hour_df.head()"
   ]
  },
  {
   "cell_type": "code",
   "execution_count": null,
   "metadata": {},
   "outputs": [],
   "source": [
    "hour_df.groupby(by=['year','month']).agg({\n",
    "    'casual': 'sum',\n",
    "    'registered': 'sum',\n",
    "    'total_count': 'sum'\n",
    "})"
   ]
  },
  {
   "cell_type": "code",
   "execution_count": null,
   "metadata": {},
   "outputs": [],
   "source": [
    "hour_df.groupby(by='season').agg({\n",
    "    'casual': 'sum',\n",
    "    'registered': 'sum',\n",
    "    'total_count': 'sum'\n",
    "}).sort_values(by='total_count', ascending=False)"
   ]
  },
  {
   "cell_type": "code",
   "execution_count": null,
   "metadata": {},
   "outputs": [],
   "source": [
    "season_df = hour_df.groupby('season')['total_count'].sum().reset_index()\n",
    "season_df.head()"
   ]
  },
  {
   "cell_type": "code",
   "execution_count": null,
   "metadata": {},
   "outputs": [],
   "source": [
    "hour_df.groupby(by='workingday').agg({\n",
    "    'casual': 'sum',\n",
    "    'registered': 'sum',\n",
    "    'total_count': 'sum'\n",
    "})"
   ]
  },
  {
   "cell_type": "code",
   "execution_count": null,
   "metadata": {},
   "outputs": [],
   "source": [
    "workingday_df = hour_df.groupby('workingday')['total_count'].sum().reset_index()\n",
    "workingday_df.head()"
   ]
  },
  {
   "cell_type": "code",
   "execution_count": null,
   "metadata": {},
   "outputs": [],
   "source": [
    "hour_df.groupby(by=['temperature', 'windspeed', 'humidity']).agg({\n",
    "    'casual': 'sum',\n",
    "    'registered': 'sum',\n",
    "    'total_count': 'sum'\n",
    "}).sort_values(by='total_count',ascending=False).head()"
   ]
  },
  {
   "attachments": {},
   "cell_type": "markdown",
   "metadata": {},
   "source": [
    "## Visualization & Explanatory Analysis"
   ]
  },
  {
   "attachments": {},
   "cell_type": "markdown",
   "metadata": {},
   "source": [
    "### Pertanyaan 1: "
   ]
  },
  {
   "cell_type": "code",
   "execution_count": null,
   "metadata": {},
   "outputs": [],
   "source": [
    "fig,ax = plt.subplots()\n",
    "sns.barplot(data=hour_df[['month',\n",
    "                           'total_count']],\n",
    "              x='month',\n",
    "              y='total_count',\n",
    "              ax=ax)\n",
    "ax.set(title=\"Monthly distribution of bike rental counts\")\n",
    "plt.xticks(rotation=45)\n",
    "plt.ylabel('Bike rental counts')\n",
    "plt.xlabel('Month')\n",
    "plt.show()"
   ]
  },
  {
   "attachments": {},
   "cell_type": "markdown",
   "metadata": {},
   "source": [
    "### Pertanyaan 2: "
   ]
  },
  {
   "cell_type": "code",
   "execution_count": null,
   "metadata": {},
   "outputs": [],
   "source": [
    "plt.figure(figsize=(10, 5))\n",
    "\n",
    "colors = [\"#72BCD4\", \"#D3D3D3\", \"#D3D3D3\", \"#D3D3D3\", \"#D3D3D3\"]\n",
    "\n",
    "sns.barplot(\n",
    "    y=\"total_count\", \n",
    "    x=\"season\",\n",
    "    data=season_df.sort_values(by=\"total_count\", ascending=False),\n",
    "    palette=colors\n",
    ")\n",
    "plt.title(\"Number Rental Bikes by Season\", loc=\"center\", fontsize=15)\n",
    "plt.ylabel(None)\n",
    "plt.show()"
   ]
  },
  {
   "cell_type": "markdown",
   "metadata": {},
   "source": [
    "### Pertanyaan 3:"
   ]
  },
  {
   "cell_type": "code",
   "execution_count": null,
   "metadata": {},
   "outputs": [],
   "source": [
    "labels = workingday_df['workingday']\n",
    "sizes = workingday_df['total_count']\n",
    "\n",
    "colors = (\"#D3D3D3\", \"#72BCD4\")\n",
    "\n",
    "\n",
    "# Create a pie chart\n",
    "plt.figure(figsize=(6, 6))\n",
    "plt.pie(sizes, \n",
    "        labels=labels, \n",
    "       colors=colors,\n",
    "        wedgeprops = {'width': 0.4},\n",
    "       startangle=0)\n",
    "\n",
    "# Add a title\n",
    "plt.title('Total Bikes Rental by Working Day')\n",
    "\n",
    "# Display the pie chart\n",
    "plt.axis('equal')  # Equal aspect ratio ensures that pie is drawn as a circle.\n",
    "plt.show()"
   ]
  },
  {
   "cell_type": "markdown",
   "metadata": {},
   "source": [
    "### Pertanyaan 4:"
   ]
  },
  {
   "cell_type": "code",
   "execution_count": null,
   "metadata": {},
   "outputs": [],
   "source": [
    "corrMatt = hour_df[['temperature', \n",
    "                    'humidity', \n",
    "                    'windspeed',  \n",
    "                    'total_count']].corr()\n",
    "\n",
    "mask = np.array(corrMatt)\n",
    "\n",
    "mask[np.tril_indices_from(mask)] = False\n",
    "fig,ax = plt.subplots()\n",
    "sns.heatmap(corrMatt, \n",
    "            mask=mask,\n",
    "            vmax=.8, \n",
    "            square=True,\n",
    "            annot=True,\n",
    "            ax=ax)"
   ]
  },
  {
   "attachments": {},
   "cell_type": "markdown",
   "metadata": {},
   "source": [
    "## Conclusion"
   ]
  },
  {
   "attachments": {},
   "cell_type": "markdown",
   "metadata": {},
   "source": [
    "- Conclution pertanyaan 1\n",
    "- conclution pertanyaan 2"
   ]
  },
  {
   "cell_type": "markdown",
   "metadata": {},
   "source": []
  }
 ],
 "metadata": {
  "kernelspec": {
   "display_name": "Python 3 (ipykernel)",
   "language": "python",
   "name": "python3"
  },
  "language_info": {
   "codemirror_mode": {
    "name": "ipython",
    "version": 3
   },
   "file_extension": ".py",
   "mimetype": "text/x-python",
   "name": "python",
   "nbconvert_exporter": "python",
   "pygments_lexer": "ipython3",
   "version": "3.9.13"
  },
  "vscode": {
   "interpreter": {
    "hash": "972b3bf27e332e87b5379f2791f6ef9dfc79c71018c370b0d7423235e20fe4d7"
   }
  }
 },
 "nbformat": 4,
 "nbformat_minor": 4
}
